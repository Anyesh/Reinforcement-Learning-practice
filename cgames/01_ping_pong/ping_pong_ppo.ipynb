{
 "cells": [
  {
   "cell_type": "markdown",
   "metadata": {
    "colab_type": "text",
    "id": "LN0nZwyMGadB"
   },
   "source": [
    "# Space Invader with Proximal Policy Optimization\n",
    "\n",
    "## Step 1: Import the libraries"
   ]
  },
  {
   "cell_type": "code",
   "execution_count": 1,
   "metadata": {
    "colab": {},
    "colab_type": "code",
    "id": "G24ZES9ZGadH"
   },
   "outputs": [],
   "source": [
    "import time\n",
    "import random\n",
    "import gym\n",
    "import numpy as np\n",
    "import matplotlib.pyplot as plt\n",
    "import cv2\n",
    "from collections import namedtuple, deque\n",
    "\n",
    "import torch\n",
    "import torch.nn as nn\n",
    "import torch.optim as optim\n",
    "import torch.nn.functional as F\n",
    "import torchvision.transforms as T\n",
    "from torch.distributions import Categorical"
   ]
  },
  {
   "cell_type": "markdown",
   "metadata": {
    "colab_type": "text",
    "id": "tfo8jleHGadK"
   },
   "source": [
    "## Step 2: Create our environment\n",
    "\n",
    "Initialize the environment in the code cell below.\n"
   ]
  },
  {
   "cell_type": "code",
   "execution_count": 2,
   "metadata": {
    "colab": {
     "base_uri": "https://localhost:8080/",
     "height": 34
    },
    "colab_type": "code",
    "executionInfo": {
     "elapsed": 1318,
     "status": "ok",
     "timestamp": 1581974759255,
     "user": {
      "displayName": "Deepanshu Tyagi",
      "photoUrl": "https://lh3.googleusercontent.com/a-/AAuE7mAwptuuEoV9tBzFhVi3X2pVaqmVdQNz5d27IBMe=s64",
      "userId": "07578295474821983616"
     },
     "user_tz": -330
    },
    "id": "QYZlfFQ0GadL",
    "outputId": "55d59a9b-6204-4426-b53c-e373acd9254c"
   },
   "outputs": [
    {
     "name": "stdout",
     "output_type": "stream",
     "text": [
      "Device:  cuda\n"
     ]
    }
   ],
   "source": [
    "# if gpu is to be used\n",
    "device = torch.device(\"cuda\" if torch.cuda.is_available() else \"cpu\")\n",
    "\n",
    "env = gym.make('SpaceInvaders-v0')\n",
    "env.seed(1)\n",
    "print(\"Device: \", device)"
   ]
  },
  {
   "cell_type": "markdown",
   "metadata": {
    "colab_type": "text",
    "id": "nS221MgXGadP"
   },
   "source": [
    "## Step 3: Viewing our Enviroment\n",
    "Execute the code cell below to play Space Invader with a random policy."
   ]
  },
  {
   "cell_type": "code",
   "execution_count": 3,
   "metadata": {
    "colab": {
     "base_uri": "https://localhost:8080/",
     "height": 314
    },
    "colab_type": "code",
    "executionInfo": {
     "elapsed": 1371,
     "status": "ok",
     "timestamp": 1581974763176,
     "user": {
      "displayName": "Deepanshu Tyagi",
      "photoUrl": "https://lh3.googleusercontent.com/a-/AAuE7mAwptuuEoV9tBzFhVi3X2pVaqmVdQNz5d27IBMe=s64",
      "userId": "07578295474821983616"
     },
     "user_tz": -330
    },
    "id": "GR6qvxhoGadQ",
    "outputId": "0f13a3b9-c1a5-4f39-be7c-446649ebb096"
   },
   "outputs": [
    {
     "name": "stdout",
     "output_type": "stream",
     "text": [
      "The size of frame is:  (210, 160, 3)\n",
      "No. of Actions:  6\n"
     ]
    },
    {
     "data": {
      "image/png": "[encoded data removed]",
      "text/plain": [
       "<Figure size 432x288 with 1 Axes>"
      ]
     },
     "metadata": {
      "needs_background": "light"
     },
     "output_type": "display_data"
    }
   ],
   "source": [
    "print(\"The size of frame is: \", env.observation_space.shape)\n",
    "print(\"No. of Actions: \", env.action_space.n)\n",
    "env.reset()\n",
    "plt.figure()\n",
    "plt.imshow(env.reset())\n",
    "plt.title('Original Frame')\n",
    "plt.show()"
   ]
  },
  {
   "cell_type": "code",
   "execution_count": 4,
   "metadata": {
    "colab": {},
    "colab_type": "code",
    "id": "AWBKu2TIGadV"
   },
   "outputs": [],
   "source": [
    "def random_play():\n",
    "    env.reset()\n",
    "    while True:\n",
    "        env.render()\n",
    "        action = env.action_space.sample()\n",
    "        state, reward, done, _ = env.step(action)\n",
    "        if done:\n",
    "            env.close()\n",
    "            break\n",
    "random_play()"
   ]
  },
  {
   "cell_type": "markdown",
   "metadata": {
    "colab_type": "text",
    "id": "Sr52nmcpGada"
   },
   "source": [
    "## Step 4:Preprocessing Frame"
   ]
  },
  {
   "cell_type": "code",
   "execution_count": 5,
   "metadata": {
    "colab": {
     "base_uri": "https://localhost:8080/",
     "height": 281
    },
    "colab_type": "code",
    "executionInfo": {
     "elapsed": 1414,
     "status": "ok",
     "timestamp": 1581974772000,
     "user": {
      "displayName": "Deepanshu Tyagi",
      "photoUrl": "https://lh3.googleusercontent.com/a-/AAuE7mAwptuuEoV9tBzFhVi3X2pVaqmVdQNz5d27IBMe=s64",
      "userId": "07578295474821983616"
     },
     "user_tz": -330
    },
    "id": "e4JQsdYtGadb",
    "outputId": "c2e0a983-a6fa-4354-bfc4-31f9685d2385",
    "scrolled": false
   },
   "outputs": [
    {
     "data": {
      "image/png": "[encoded data removed]",
      "text/plain": [
       "<Figure size 432x288 with 1 Axes>"
      ]
     },
     "metadata": {
      "needs_background": "light"
     },
     "output_type": "display_data"
    }
   ],
   "source": [
    "def preprocess_frame(screen):\n",
    "    # TConver image to gray scale\n",
    "    screen = cv2.cvtColor(screen, cv2.COLOR_RGB2GRAY)\n",
    "    \n",
    "    #Crop screen[Up: Down, Left: right] \n",
    "    screen = screen[8:-12, 4:-12]\n",
    "    \n",
    "    # Convert to float, and normalized\n",
    "    screen = np.ascontiguousarray(screen, dtype=np.float32) / 255\n",
    "    \n",
    "    # Resize image to 84 * 84\n",
    "    screen = cv2.resize(screen, (84, 84), interpolation = cv2.INTER_AREA)\n",
    "    return screen\n",
    "\n",
    "env.reset()\n",
    "plt.figure()\n",
    "plt.imshow(preprocess_frame(env.reset()), cmap=\"gray\")\n",
    "plt.title('Pre Processed image')\n",
    "plt.show()"
   ]
  },
  {
   "cell_type": "markdown",
   "metadata": {
    "colab_type": "text",
    "id": "mJMc3HA8Gade"
   },
   "source": [
    "## Step 5: Stacking Frame"
   ]
  },
  {
   "cell_type": "code",
   "execution_count": 6,
   "metadata": {
    "colab": {},
    "colab_type": "code",
    "id": "8nfapI_NGadi"
   },
   "outputs": [],
   "source": [
    "def stack_frame(stacked_frames, state, is_new=False):\n",
    "    frame = preprocess_frame(state)\n",
    "    if is_new:\n",
    "        stacked_frames = np.stack(arrays=[frame, frame, frame, frame])\n",
    "        stacked_frames = stacked_frames\n",
    "    else:\n",
    "        stacked_frames[0] = stacked_frames[1]\n",
    "        stacked_frames[1] = stacked_frames[2]\n",
    "        stacked_frames[2] = stacked_frames[3]\n",
    "        stacked_frames[3] = frame\n",
    "    \n",
    "    return stacked_frames"
   ]
  },
  {
   "cell_type": "markdown",
   "metadata": {},
   "source": [
    "## Step 6: Creating Replay Memory"
   ]
  },
  {
   "cell_type": "code",
   "execution_count": 7,
   "metadata": {},
   "outputs": [],
   "source": [
    "class ReplayMemory(object):\n",
    "\n",
    "    def __init__(self):\n",
    "        self.actions = []\n",
    "        self.states = []\n",
    "        self.logprobs = []\n",
    "        self.rewards = []\n",
    "        self.is_terminals = []\n",
    "\n",
    "    def get(self):\n",
    "        \n",
    "        states = torch.from_numpy(np.array(self.states)).float().to(device)\n",
    "        actions = torch.from_numpy(np.array(self.actions)).long().to(device)\n",
    "        rewards = torch.from_numpy(np.array(self.discount_and_normalize_rewards(self.rewards))).float().to(device)    \n",
    "        logprobs = torch.stack(self.logprobs)\n",
    "        \n",
    "        return (states, actions, logprobs, rewards)\n",
    "    \n",
    "    def clear_memory(self):\n",
    "        del self.actions[:]\n",
    "        del self.states[:]\n",
    "        del self.logprobs[:]\n",
    "        del self.rewards[:]\n",
    "        del self.is_terminals[:]\n",
    "        \n",
    "    def discount_and_normalize_rewards(self, episode_rewards):\n",
    "        discounted_episode_rewards = np.zeros_like(episode_rewards)\n",
    "        cumulative = 0.0\n",
    "        for i in reversed(range(len(episode_rewards))):\n",
    "            cumulative = cumulative * GAMMA + episode_rewards[i]\n",
    "            discounted_episode_rewards[i] = cumulative\n",
    "\n",
    "        mean = np.mean(discounted_episode_rewards)\n",
    "        std = np.std(discounted_episode_rewards)\n",
    "        discounted_episode_rewards = (discounted_episode_rewards - mean) / (std)\n",
    "\n",
    "        return discounted_episode_rewards\n"
   ]
  },
  {
   "cell_type": "markdown",
   "metadata": {
    "colab_type": "text",
    "id": "dqN-MRhfGadp"
   },
   "source": [
    "## Step 7: Creating Deep Learning Model"
   ]
  },
  {
   "cell_type": "code",
   "execution_count": 8,
   "metadata": {
    "colab": {},
    "colab_type": "code",
    "id": "B1_8PW76Gadr"
   },
   "outputs": [],
   "source": [
    "class Network(nn.Module):\n",
    "    def __init__(self, num_actions=6):\n",
    "        super(Network, self).__init__()\n",
    "        self.action_size = num_actions\n",
    "        \n",
    "        self.conv1 = nn.Conv2d(4, 32, kernel_size=8, stride=4)\n",
    "        self.conv2 = nn.Conv2d(32, 64, kernel_size=4, stride=2)\n",
    "        self.conv3 = nn.Conv2d(64, 64, kernel_size=3, stride=1)\n",
    "        self.fc4 = nn.Linear(7 * 7 * 64, 512)\n",
    "        self.fc5 = nn.Linear(512, num_actions)\n",
    "        self.fc6 = nn.Linear(512, 1)\n",
    "\n",
    "    def forward(self, x):\n",
    "        x = F.relu(self.conv1(x))\n",
    "        x = F.relu(self.conv2(x))\n",
    "        x = F.relu(self.conv3(x))\n",
    "        x = F.relu(self.fc4(x.view(x.size(0), -1)))\n",
    "        \n",
    "        if self.action_size == 1:\n",
    "            return self.fc6(x)\n",
    "        else:\n",
    "            return F.softmax(self.fc5(x), dim=1)"
   ]
  },
  {
   "cell_type": "code",
   "execution_count": 9,
   "metadata": {
    "colab": {},
    "colab_type": "code",
    "id": "g0mO482LGadx"
   },
   "outputs": [],
   "source": [
    "GAMMA = .999            # discount factor\n",
    "BUFFER_SIZE = int(1e5)  # replay buffer size\n",
    "BATCH_SIZE = 64         # minibatch size\n",
    "\n",
    "class Agent():\n",
    "    def __init__(self, action_size, alpha=1e-3, beta=3e-3, K_epochs=4, eps_clip=0.2):\n",
    "        self.action_size = action_size\n",
    "        self.eps_clip = eps_clip\n",
    "        \n",
    "        self.actor_policy = Network(action_size).to(device)\n",
    "        \n",
    "        self.actor_target = Network(action_size).to(device)\n",
    "        self.actor_optimizer = optim.Adam(self.actor_target.parameters(), lr=alpha)\n",
    "        self.critic_target = Network(1).to(device)\n",
    "        self.critic_optimizer = optim.Adam(self.critic_target.parameters(), lr=beta)\n",
    "        \n",
    "        self.memory = ReplayMemory()\n",
    "        self.K_epochs = K_epochs\n",
    "        self.MseLoss = nn.MSELoss()\n",
    "                \n",
    "    def act(self, state):\n",
    "        \"\"\"Returns actions for given state as per current policy.\"\"\"\n",
    "        state = torch.from_numpy(state).float().unsqueeze(0).to(device)\n",
    "        probs = self.actor_policy(state)\n",
    "        action_probs = Categorical(probs)\n",
    "        action = action_probs.sample()\n",
    "        log_prob = action_probs.log_prob(action)\n",
    "        return action.item(), log_prob\n",
    "    \n",
    "    def evaluate(self, states, actions):\n",
    "        action_probs = self.actor_target(states)\n",
    "        dist = Categorical(action_probs)\n",
    "        \n",
    "        action_logprobs = dist.log_prob(actions)\n",
    "        dist_entropys = dist.entropy()\n",
    "        state_values = self.critic_target(states)\n",
    "        \n",
    "        return action_logprobs, torch.squeeze(state_values), dist_entropys\n",
    "    \n",
    "    def reset(self):\n",
    "        self.memory.clear_memory()\n",
    "\n",
    "    \n",
    "    def step(self, state, action, log_prob, reward, is_terminal):\n",
    "        self.memory.states.append(state)\n",
    "        self.memory.actions.append(action)\n",
    "        self.memory.rewards.append(reward)\n",
    "        self.memory.logprobs.append(log_prob)\n",
    "        self.memory.is_terminals.append(is_terminal)\n",
    "        \n",
    "    def learn(self):\n",
    "        old_states, actions, old_logprobs, rewards = self.memory.get()\n",
    "        \n",
    "        for _ in range(self.K_epochs):\n",
    "            logprobs, state_values, dist_entropy = self.evaluate(old_states, actions)\n",
    "            # Finding the ratio (pi_theta / pi_theta__old):\n",
    "            ratios = torch.exp(logprobs - old_logprobs.detach())\n",
    "                \n",
    "            # Finding Surrogate Loss:\n",
    "            advantages = rewards - state_values.detach()\n",
    "            surr1 = ratios * advantages\n",
    "            surr2 = torch.clamp(ratios, 1-self.eps_clip, 1+self.eps_clip) * advantages\n",
    "            loss = -torch.min(surr1, surr2) + 0.5*self.MseLoss(state_values, rewards) - 0.01*dist_entropy\n",
    "            \n",
    "            # take gradient step\n",
    "            self.actor_optimizer.zero_grad()\n",
    "            self.critic_optimizer.zero_grad()\n",
    "            loss.mean().backward()\n",
    "            self.actor_optimizer.step()\n",
    "            self.critic_optimizer.step()\n",
    "        self.actor_policy.load_state_dict(self.actor_target.state_dict())\n",
    "        "
   ]
  },
  {
   "cell_type": "markdown",
   "metadata": {},
   "source": [
    "## Step 9: Watching untrained agent play"
   ]
  },
  {
   "cell_type": "code",
   "execution_count": 10,
   "metadata": {
    "colab": {},
    "colab_type": "code",
    "id": "WsJx1j-GGadz"
   },
   "outputs": [],
   "source": [
    "agent = Agent(action_size= env.action_space.n)\n",
    "\n",
    "# watch an untrained agent\n",
    "state = stack_frame(None, env.reset(), True) \n",
    "while True:\n",
    "    env.render()\n",
    "    action, _= agent.act(state)\n",
    "    next_state, reward, done, _ = env.step(action)\n",
    "    state = stack_frame(state, next_state, False)\n",
    "    if done:\n",
    "        break \n",
    "        \n",
    "env.close()"
   ]
  },
  {
   "cell_type": "markdown",
   "metadata": {},
   "source": [
    "## Step 10: Loading Agent\n",
    "Uncomment line to load a pretrained agent"
   ]
  },
  {
   "cell_type": "code",
   "execution_count": 11,
   "metadata": {},
   "outputs": [],
   "source": [
    "start_epoch = 0\n",
    "scores = []\n",
    "scores_window = deque(maxlen=100)\n",
    "\n",
    "# To Load checkpoint uncomment code\n",
    "# checkpoint = torch.load('space_invader_dqn.pth')\n",
    "# agent.policy_net.load_state_dict(checkpoint['state_dict'])\n",
    "# agent.target_net.load_state_dict(checkpoint['state_dict'])\n",
    "# agent.optimizer.load_state_dict(checkpoint['optimizer'])\n",
    "# start_epoch = checkpoint['epoch']\n",
    "# scores = checkpoint['socres']\n",
    "\n",
    "# index = 1\n",
    "# for i in reversed(scores):\n",
    "#     scores_window.append(i)\n",
    "#     if index == 100:\n",
    "#         break\n",
    "#     index += 1"
   ]
  },
  {
   "cell_type": "markdown",
   "metadata": {},
   "source": [
    "## Step 11: Train the Agent with Actor Critic"
   ]
  },
  {
   "cell_type": "code",
   "execution_count": 12,
   "metadata": {
    "colab": {
     "base_uri": "https://localhost:8080/",
     "height": 424
    },
    "colab_type": "code",
    "executionInfo": {
     "elapsed": 1701238,
     "status": "error",
     "timestamp": 1581979018624,
     "user": {
      "displayName": "Deepanshu Tyagi",
      "photoUrl": "https://lh3.googleusercontent.com/a-/AAuE7mAwptuuEoV9tBzFhVi3X2pVaqmVdQNz5d27IBMe=s64",
      "userId": "07578295474821983616"
     },
     "user_tz": -330
    },
    "id": "uSDH_VeRGad2",
    "outputId": "4be8e962-3c10-4ed1-c618-46dd5bb0d66a",
    "scrolled": true
   },
   "outputs": [],
   "source": [
    "def train(n_episodes=2000):\n",
    "    steps = 0\n",
    "    for i_episode in range(start_epoch+1, n_episodes+1):\n",
    "        state = stack_frame(None, env.reset(), True)\n",
    "        score = 0\n",
    "        while True:\n",
    "            action, log_prob = agent.act(state)\n",
    "            next_state, reward, done, _ = env.step(action)\n",
    "            next_state = stack_frame(state, next_state, False)\n",
    "            agent.step(state, action, log_prob, reward, done)\n",
    "            state = next_state\n",
    "            score += reward\n",
    "            steps += 1\n",
    "            if steps == 1000:\n",
    "                agent.learn()\n",
    "                agent.reset()\n",
    "                steps = 0\n",
    "            if done:\n",
    "                break\n",
    "        scores_window.append(score)       # save most recent score\n",
    "        scores.append(score)              # save most recent score\n",
    "        \n",
    "        print('\\rEpisode {}\\tAverage Score: {:.2f}'.format(i_episode, np.mean(scores_window)), end=\"\")\n",
    "        \n",
    "        if i_episode % 100 == 0:\n",
    "            print('\\rEpisode {}\\tAverage Score: {:.2f}'.format(i_episode, np.mean(scores_window)))\n",
    "    \n",
    "    return scores"
   ]
  },
  {
   "cell_type": "code",
   "execution_count": 19,
   "metadata": {},
   "outputs": [
    {
     "name": "stdout",
     "output_type": "stream",
     "text": [
      "Episode 200\tAverage Score: 139.75\n",
      "Episode 300\tAverage Score: 158.25\n",
      "Episode 400\tAverage Score: 162.95\n",
      "Episode 500\tAverage Score: 155.95\n"
     ]
    },
    {
     "data": {
      "image/png": "[encoded data removed]",
      "text/plain": [
       "<Figure size 432x288 with 1 Axes>"
      ]
     },
     "metadata": {
      "needs_background": "light"
     },
     "output_type": "display_data"
    }
   ],
   "source": [
    "scores = train(500)\n",
    "# plot the scores\n",
    "fig = plt.figure()\n",
    "ax = fig.add_subplot(111)\n",
    "plt.plot(np.arange(len(scores)), scores)\n",
    "plt.ylabel('Score')\n",
    "plt.xlabel('Episode #')\n",
    "plt.show()"
   ]
  },
  {
   "cell_type": "markdown",
   "metadata": {},
   "source": [
    "## Step 12: Watch a Smart Agent!"
   ]
  },
  {
   "cell_type": "code",
   "execution_count": 20,
   "metadata": {
    "colab": {},
    "colab_type": "code",
    "id": "FC96MR_JGad7",
    "outputId": "4787a1c3-3a86-449a-c48d-1153ba3204b9"
   },
   "outputs": [
    {
     "name": "stdout",
     "output_type": "stream",
     "text": [
      "You Final score is: 320.0\n"
     ]
    }
   ],
   "source": [
    "score = 0\n",
    "state = stack_frame(None, env.reset(), True)\n",
    "while True:\n",
    "    env.render()\n",
    "    action, _ = agent.act(state)\n",
    "    next_state, reward, done, _ = env.step(action)\n",
    "    score += reward\n",
    "    state = stack_frame(state, next_state, False)\n",
    "    if done:\n",
    "        print(\"You Final score is:\", score)\n",
    "        break \n",
    "env.close()"
   ]
  },
  {
   "cell_type": "code",
   "execution_count": 15,
   "metadata": {},
   "outputs": [],
   "source": [
    "# env.close()"
   ]
  }
 ],
 "metadata": {
  "accelerator": "GPU",
  "colab": {
   "collapsed_sections": [],
   "name": "space_invader.ipynb",
   "provenance": [],
   "toc_visible": true
  },
  "kernelspec": {
   "display_name": "Python 3",
   "language": "python",
   "name": "python3"
  },
  "language_info": {
   "codemirror_mode": {
    "name": "ipython",
    "version": 3
   },
   "file_extension": ".py",
   "mimetype": "text/x-python",
   "name": "python",
   "nbconvert_exporter": "python",
   "pygments_lexer": "ipython3",
   "version": "3.7.6"
  }
 },
 "nbformat": 4,
 "nbformat_minor": 1
}
